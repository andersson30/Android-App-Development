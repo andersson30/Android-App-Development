{
  "cells": [
    {
      "cell_type": "markdown",
      "metadata": {
        "id": "view-in-github",
        "colab_type": "text"
      },
      "source": [
        "<a href=\"https://colab.research.google.com/github/andersson30/Android-App-Development/blob/master/CL_Tarea_3_An%C3%A1lisis_avanzado_de_datos_con_Python.ipynb\" target=\"_parent\"><img src=\"https://colab.research.google.com/assets/colab-badge.svg\" alt=\"Open In Colab\"/></a>"
      ]
    },
    {
      "cell_type": "markdown",
      "metadata": {
        "id": "fb9pUStUq6xf"
      },
      "source": [
        "<img src = \"https://drive.google.com/uc?export=view&id=1vU_Lg5LD6Dn521znF_9E6OsJgwptOT9E\" alt = \"Encabezado MLDS\" width = \"100%\">  </img>"
      ]
    },
    {
      "cell_type": "markdown",
      "metadata": {
        "id": "4P-aXUSffVPX"
      },
      "source": [
        "#**Tarea 3 : Análisis avanzado de datos con *Python***\n",
        "---\n",
        "\n",
        "Esta es un tarea para practicar las habilidades adquiridas usando *Python* en análisis avanzado de datos con estadística inferencial y modelado estadístico. Utilizaremos el conjunto de datos de [calidad de bananas](https://www.kaggle.com/datasets/l3llff/banana).\n",
        "\n",
        "El conjunto de datos cuenta con una serie de medidas organolépticas sobre\n",
        "bananas consideradas de buena y mala calidad. A continuación podrá observar cada una de estas:\n",
        "\n",
        "| Variable | Definición\t|\n",
        "| --- | --- |\n",
        "| Size  | \ttamaño de la fruta |\n",
        "| Weight  \t|  peso de la fruta |\n",
        "| Sweetness  \t| Dulzura de la fruta\t|\n",
        "| Softness   \t| Textura de la fruta\t|\n",
        "| HarvestTime   |\ttiempo transcurrido desde la cosecha de la fruta \t|\n",
        "| Ripeness  | Madurez de la fruta\t|\n",
        "| Acidity  |\tAcidez de la fruta\t|\n",
        "| Quality  |\tcalidad de la fruta\t|\n",
        "\n",
        "\n",
        "En esta tarea usted deberá aplicar los conceptos de estadística inferencial y modelado estadístico usando *Python*.\n",
        "\n",
        "> **Nota:** Esta tarea va a ser calificada estableciendo una conexión con **[UNCode](https://juezun.github.io/)**. La conexión se realizará al ejecutar la celda indicada e ingresando los datos de usuariio.En cada ejercicio se indicará si es calificable o no, también los lugares donde debe escribir su código sin modificar lo demás con un aproximado de cantidad de líneas a escribir. No se preocupe si su código toma más líneas, esto es simplemente un aproximado destinado a que pueda replantear su estrategia si el código está tomando más de las esperadas. No es un requisito estricto y soluciones más largas también son válidas.\n",
        "\n",
        ">**La tarea es incremental, es recomendable resolver los puntos en orden.**\n",
        "\n",
        ">En caso de tener dudas de cómo solucionar este tipo de ejercicios, por favor consultar el demo en la unidad 0"
      ]
    },
    {
      "cell_type": "code",
      "execution_count": 12,
      "metadata": {
        "id": "rimXJXmbLmt4"
      },
      "outputs": [],
      "source": [
        "# Importar librerías\n",
        "import numpy as np\n",
        "import pandas as pd\n",
        "from scipy import stats\n",
        "import scipy\n",
        "import statsmodels.api as sm\n",
        "\n",
        "#Seaborn se discutirá en la unidad 4; se incluye aquí con fines demostrativos.\n",
        "import seaborn as sns"
      ]
    },
    {
      "cell_type": "code",
      "execution_count": 13,
      "metadata": {
        "id": "YIRLOqN-hwtg",
        "outputId": "c437848c-3f9a-4b2a-d6e6-6f86e7456bf7",
        "colab": {
          "base_uri": "https://localhost:8080/"
        }
      },
      "outputs": [
        {
          "output_type": "stream",
          "name": "stdout",
          "text": [
            "Python 3.12.11\n",
            "Pandas 2.2.2\n",
            "NumPy 2.0.2\n",
            "SciPy 1.16.1\n",
            "statsmodels 0.14.5\n",
            "Seaborn 0.13.2\n"
          ]
        }
      ],
      "source": [
        "#TEST_CELL\n",
        "\n",
        "!python --version\n",
        "print('Pandas', pd.__version__)\n",
        "print('NumPy', np.__version__)\n",
        "print('SciPy', scipy.__version__)\n",
        "print('statsmodels', sm.__version__)\n",
        "print('Seaborn', sns.__version__)"
      ]
    },
    {
      "cell_type": "markdown",
      "metadata": {
        "id": "ElYRIkj3hwtj"
      },
      "source": [
        "Este material fue realizado con las siguientes versiones:\n",
        "\n",
        "- Python 3.12.11\n",
        "- Pandas 2.2.2\n",
        "- NumPy 2.0.0\n",
        "- SciPy 1.16.1\n",
        "- statsmodels 0.14.5\n",
        "- Seaborn 0.13.2\n",
        "\n"
      ]
    },
    {
      "cell_type": "markdown",
      "metadata": {
        "id": "OAvU_HhDQjWy"
      },
      "source": [
        "## **Conexión UNCode**"
      ]
    },
    {
      "cell_type": "code",
      "execution_count": 14,
      "metadata": {
        "id": "4PAttzPSPmOu"
      },
      "outputs": [],
      "source": [
        "%%capture\n",
        "!pip install rlxcrypt\n",
        "!wget --no-cache -O session.pye -q https://raw.githubusercontent.com/JuezUN/INGInious/master/external%20libs/session.pye"
      ]
    },
    {
      "cell_type": "code",
      "execution_count": 15,
      "metadata": {
        "id": "5gaFeAXkPnwg",
        "outputId": "667a7478-8b1a-4091-8a09-4422e2b7e80a",
        "colab": {
          "base_uri": "https://localhost:8080/",
          "height": 289
        }
      },
      "outputs": [
        {
          "output_type": "display_data",
          "data": {
            "text/plain": [
              "<IPython.core.display.HTML object>"
            ],
            "text/html": [
              "\n",
              "    <div>\n",
              "    <div style=\"display: flex\">\n",
              "        <div style=\"padding: 10px\">\n",
              "          <img\n",
              "            src=\"https://uncode.unal.edu.co/static/images/logo_unc.svg\"\n",
              "            width=\"50px\"\n",
              "            height=\"50px\"\n",
              "          />\n",
              "        </div>\n",
              "      \n",
              "        <div>\n",
              "          <h2>UNCode Notebooks grader API</h2>\n",
              "          <hr />\n",
              "        </div>\n",
              "      </div>\n",
              "      \n",
              "      <div style=\"display: flex\">\n",
              "        <span>Please enter authentication data</span>\n",
              "      </div>\n",
              "    </div>\n",
              "    "
            ]
          },
          "metadata": {}
        },
        {
          "name": "stdout",
          "output_type": "stream",
          "text": [
            "Please enter your UNCode username: anavilaroj\n",
            "Please enter your password: ··········\n"
          ]
        },
        {
          "output_type": "display_data",
          "data": {
            "text/plain": [
              "<IPython.core.display.HTML object>"
            ],
            "text/html": [
              "<h5 style=\"color: green\"><Response [200]></h5>"
            ]
          },
          "metadata": {}
        },
        {
          "output_type": "display_data",
          "data": {
            "text/plain": [
              "<IPython.core.display.HTML object>"
            ],
            "text/html": [
              "<h5 style=\"color: green\">Auth process succeeded</h5>"
            ]
          },
          "metadata": {}
        },
        {
          "output_type": "display_data",
          "data": {
            "text/plain": [
              "<IPython.core.display.HTML object>"
            ],
            "text/html": [
              "<h5>View your courses <a href=\"https://uncode.unal.edu.co/courselist\">at UNCode platform</a></h5>"
            ]
          },
          "metadata": {}
        },
        {
          "output_type": "display_data",
          "data": {
            "text/plain": [
              "<IPython.core.display.HTML object>"
            ],
            "text/html": [
              "<h3>You will sumbit code to course: <span style=\"color: green\">Análisis y visualización de datos | Grupo MLDS-1 | 2025 - 2<span></h3>"
            ]
          },
          "metadata": {}
        },
        {
          "output_type": "display_data",
          "data": {
            "text/plain": [
              "<IPython.core.display.HTML object>"
            ],
            "text/html": [
              "<h3>You will sumbit code to task: <span style=\"color: blue\">CL Tarea 3 - Análisis avanzado de datos<span></h3>"
            ]
          },
          "metadata": {}
        }
      ],
      "source": [
        "import rlxcrypt\n",
        "import session\n",
        "\n",
        "grader = session.LoginSequence(\"AYVDD-GroupMLDS-1-2025-2@tarea_3\")"
      ]
    },
    {
      "cell_type": "markdown",
      "metadata": {
        "id": "kYfn30XJ_aff"
      },
      "source": [
        "## **0.  Leer el archivo de datos**\n",
        "---\n",
        "> **IMPORTANTE: Por favor cargue el conjunto de datos de manera manual o mediante el código dispuesto a contnuación**\n",
        "  1. Por favor descargue el archivo con el conjunto de datos desde el siguiente enlace: **[banana_quality.csv](https://raw.githubusercontent.com/mindlab-unal/mlds1-datasets/refs/heads/main/actividades/banana_quality.csv)**.\n",
        "  \n",
        "  2. En el enlace, haga clic derecho y seleccione la opción **\"Guardar como...\"**.\n",
        "\n",
        "  3. Cargue este archivo en su sistema de archivos de **Google Colaboratory**. Para hacer esto:\n",
        "    \n",
        "* Haga clic donde aparece el icono del directorio en la parte izquierda de la ventana en *Google Colaboratory* (resaltado en azul en la siguiente imagen con el número 1).\n",
        "* Después, haga clic en el icono **\"Subir\"** (resaltado en azul en la siguiente imagen con el número 2).\n",
        "* Seleccione el archivo **`banana_quality.csv`** que previamente descargó y haga clic en **\"Aceptar\"**.\n",
        "\n",
        "<img src = \"https://drive.google.com/uc?export=view&id=13W59jfdOpAn_DYIjpXt4WPBZiU7BlRGY\" alt = \"Sistema archivos colab\" width = \"70%\">  </img>\n",
        "\n"
      ]
    },
    {
      "cell_type": "markdown",
      "metadata": {
        "id": "RRsmbTEwM4j7"
      },
      "source": [
        "Ejecute la siguiente celda para cargar el conjunto de datos dentro del DataFrame de *pandas* llamado **`banana_quality`**:"
      ]
    },
    {
      "cell_type": "code",
      "execution_count": null,
      "metadata": {
        "id": "SaDOtb_yEVn5"
      },
      "outputs": [],
      "source": [
        "!wget https://raw.githubusercontent.com/mindlab-unal/mlds1-datasets/refs/heads/main/actividades/banana_quality.csv"
      ]
    },
    {
      "cell_type": "code",
      "execution_count": null,
      "metadata": {
        "id": "Y9F6G_l5pKOZ"
      },
      "outputs": [],
      "source": [
        "### EJECUTAR ESTA CELDA SIN MODIFICARLA. SI FALLA, DEBE SEGUIR EL PROCEDIMIENTO DESCRITO ANTES.\n",
        "data_original = pd.read_csv('banana_quality.csv')"
      ]
    },
    {
      "cell_type": "code",
      "execution_count": null,
      "metadata": {
        "id": "C1FtvzeekxL7"
      },
      "outputs": [],
      "source": [
        "#TEST_CELL\n",
        "data_original.info()"
      ]
    },
    {
      "cell_type": "markdown",
      "metadata": {
        "id": "LJCLzGMFBmPf"
      },
      "source": [
        "## **1. Conjunto de datos *banana Quality***\n",
        "---\n",
        "\n",
        "El conjunto de datos *Banana Quality* contiene información sobre 8,000 frutos, de los cuales 4,000 son considerados de mala calidad y los 4,000 restantes de buena calidad. En esta tarea, exploraremos las características de los frutos según su calidad, con el objetivo de identificar diferencias clave entre ambas categorías."
      ]
    },
    {
      "cell_type": "markdown",
      "metadata": {
        "id": "Rb8ni89c1SLT"
      },
      "source": [
        "Nota: Utilizaremos `seaborn` para generar visualizaciones rápidas que nos permitan analizar la relación entre las variables del conjunto de datos. En particular, emplearemos el método `pairplot`, el cual se estudiará en detalle en la **Unidad 4**. En este material, su uso es meramente exploratorio y no es obligatorio para el desarrollo de los ejercicios."
      ]
    },
    {
      "cell_type": "code",
      "execution_count": null,
      "metadata": {
        "id": "Gp93_K6wzAYR"
      },
      "outputs": [],
      "source": [
        "#TEST_CELL\n",
        "sns.pairplot(data_original, hue = 'Quality');"
      ]
    },
    {
      "cell_type": "markdown",
      "metadata": {
        "id": "jgrsl5G_2Lps"
      },
      "source": [
        "A simple vista, los frutos presentan una distribución similar. Sin embargo, se puede notar cierto grado de separabilidad entre las categorías de calidad. Por lo tanto, surge la siguiente pregunta: **¿qué tan marcadas son las diferencias entre los frutos de buena y mala calidad?**"
      ]
    },
    {
      "cell_type": "markdown",
      "metadata": {
        "id": "TkveZOe7GgK9"
      },
      "source": [
        "Al consultar algunas de las estadísticas descriptivas podemos ver"
      ]
    },
    {
      "cell_type": "code",
      "execution_count": null,
      "metadata": {
        "id": "VpI9mIGCDMT7"
      },
      "outputs": [],
      "source": [
        "#TEST_CELL\n",
        "(data_original.groupby('Quality')\n",
        "  .agg([\"mean\", \"std\"]) #Estadísticas descriptivas de media y deviación estándar.\n",
        "  .T #Se transpone para mostrar mejor.\n",
        ")"
      ]
    },
    {
      "cell_type": "markdown",
      "metadata": {
        "id": "3t9rrLdIBC0j"
      },
      "source": [
        "Si bien la mayoría de las mediciones varían entre las dos categorías, **¿podemos afirmar que estas diferencias son significativas?**"
      ]
    },
    {
      "cell_type": "markdown",
      "metadata": {
        "id": "zUcb7X0eGCAi"
      },
      "source": [
        "Para los siguientes puntos se requiere realizar unas modificaciones al *dataset* original. En este ejercicio deberá generar el *DataFrame* **`nuevo_df`**, el cual incluirá los siguientes cambios:\n",
        "\n",
        "### 1.1 Cambio de nombres de columnas\n",
        " Los nombres de las columnas deberán ser reemplazados de la siguiente manera:\n",
        "\n",
        "| Columna original | Nuevo nombre\t|\n",
        "| --- | --- |\n",
        "| Size | tamaño  |\n",
        "| Weight | peso  \t|\n",
        "| Sweetness\t| dulce  \t|\n",
        "| Softness\t| suave   \t|\n",
        "| HarvestTime \t| tiempo   |\n",
        "| Ripeness\t| maduro  |\n",
        "| Acidity \t| acidez  |\n",
        "| Quality\t| buena_calidad  |\n",
        "\n",
        "\n",
        "\n",
        "\n"
      ]
    },
    {
      "cell_type": "markdown",
      "metadata": {
        "id": "-QqIGdnhIOY-"
      },
      "source": [
        "### 1.2. Modificación de la variable\n",
        "  \n",
        "La variable `Quality`, ahora renombrada como `buena_calidad`, deberá convertirse en una variable booleana que indique si la fruta es de buena calidad. Se representará con `True` para las frutas de buena calidad y `False` en caso contrario.\n"
      ]
    },
    {
      "cell_type": "markdown",
      "metadata": {
        "id": "MLGwxvJnmbV3"
      },
      "source": [
        "<details>    \n",
        "<summary>\n",
        "    <font size=\"3\" color=\"darkgreen\"><b>Pistas</b></font>\n",
        "</summary>\n",
        "<p>\n",
        "\n",
        "* Puede reemplazar los nombres de índices o columnas con el método **`rename`** del objeto *DataFrame*. Para facilitar la transcripción utilice el siguiente diccionario:\n",
        "```python\n",
        "{\n",
        "    'tamaño': 'Size',\n",
        "    ...\n",
        "}\n",
        "\n",
        "```\n",
        "* Puede usar el operador **`==`** binarizar un a variable."
      ]
    },
    {
      "cell_type": "code",
      "execution_count": null,
      "metadata": {
        "id": "vhK0JYp7ziya"
      },
      "outputs": [],
      "source": [
        "## VARIABLE CALIFICADA: nuevo_df\n",
        "### ESCRIBA SU CÓDIGO AQUÍ ### (~ 12 línea de código)\n",
        "nuevo_df = None"
      ]
    },
    {
      "cell_type": "code",
      "execution_count": null,
      "metadata": {
        "id": "Jgg9Kqvj79rA"
      },
      "outputs": [],
      "source": [
        "#TEST_CELL\n",
        "nuevo_df.head()"
      ]
    },
    {
      "cell_type": "markdown",
      "metadata": {
        "id": "_hGCCp2J71sb"
      },
      "source": [
        "La salida de la celda anterior debería ser:\n",
        "```python\n",
        "    tamaño      peso     dulce     suave    tiempo    maduro    acidez  buena_calidad\n",
        "0 -1.924968  0.468078  3.077832 -1.472177  0.294799  2.435570  0.271290           True  \n",
        "1 -2.409751  0.486870  0.346921 -2.495099 -0.892213  2.067549  0.307325           True   \n",
        "2 -0.357607  1.483176  1.568452 -2.645145 -0.647267  3.090643  1.427322           True   \n",
        "3 -0.868524  1.566201  1.889605 -1.273761 -1.006278  1.873001  0.477862           True   \n",
        "4  0.651825  1.319199 -0.022459 -1.209709 -1.430692  1.078345  2.812442           True\n",
        "\n",
        "```"
      ]
    },
    {
      "cell_type": "markdown",
      "metadata": {
        "id": "907r9JNb2FrM"
      },
      "source": [
        "### **Evaluar código**"
      ]
    },
    {
      "cell_type": "code",
      "execution_count": null,
      "metadata": {
        "id": "702K5Aw9StmR"
      },
      "outputs": [],
      "source": [
        "grader.run_test(\"Test 1_1\", globals())"
      ]
    },
    {
      "cell_type": "code",
      "execution_count": null,
      "metadata": {
        "id": "cj9O0Vshh7Ad"
      },
      "outputs": [],
      "source": [
        "grader.run_test(\"Test 1_2\", globals())"
      ]
    },
    {
      "cell_type": "markdown",
      "metadata": {
        "id": "6vwA1SfZ__QI"
      },
      "source": [
        "## **2. ¿Existe variables correlacionadas?**\n",
        "---\n",
        "\n",
        "En muchos conjuntos de datos, es común encontrar variables que están altamente correlacionadas entre sí. Esto puede representar un problema, ya que introduce información redundante en el análisis y puede afectar la interpretación de los resultados.\n",
        "\n",
        "Tu tarea consiste en implementar la función **`corr_matrix`**, que calculará la correlación entre todas las variables del *dataset*, ignorando la *calidad del fruto*. Además, deberás reportar el **p-valor** en formato matricial.\n",
        "\n",
        "**Entradas:**\n",
        "\n",
        "  * **`nuevo_df`**: Dataframe\n",
        "\n",
        "**Salidas:**\n",
        "  \n",
        "  * **`corr_matrix`** (*matriz de tamaño mXm*): Matriz de correlación, donde m representa el número de variables analizadas. Cada posición (i, j) de la matriz contendrá el coeficiente de correlación entre las características i y j.\n",
        "  * **`p_matrix`** (*matriz de tamaño mXm*): Matriz de p-valores, donde cada posición (i, j) contiene el valor p correspondiente a la prueba de hipótesis entre las características i y j."
      ]
    },
    {
      "cell_type": "markdown",
      "metadata": {
        "id": "BEbmFm1qssOh"
      },
      "source": [
        "<details>    \n",
        "<summary>\n",
        "    <font size=\"3\" color=\"darkgreen\"><b>Pistas</b></font>\n",
        "</summary>\n",
        "\n",
        "* Puede realizar selección condicional en un eje y selección por etiquetas en otro con el atributo **`.loc`**. Haga esto para obtener los conjuntos **`x`** y **`y`** necesarios para calcular la regresión.\n",
        "* Utilice el método **`scipy.stats.pearsonr`**. Para saber más, consulte el material de la guía de modelado estadístico o la documentación oficial de la función."
      ]
    },
    {
      "cell_type": "code",
      "execution_count": null,
      "metadata": {
        "id": "vHXEVFH93miY"
      },
      "outputs": [],
      "source": [
        "# FUNCIÓN CALIFICADA corr_matrix:\n",
        "def corr_matrix(nuevo_df):\n",
        "\n",
        "    ### ESCRIBA SU CÓDIGO AQUÍ ### (~ 12 líneas de código)\n",
        "\n",
        "\n",
        "    # Si prefiere, podría ser necesario borrar la siguiente línea y definir las variables una a la vez.\n",
        "    corr_matrix, p_matrix = None, None\n",
        "\n",
        "    return corr_matrix, p_matrix"
      ]
    },
    {
      "cell_type": "code",
      "execution_count": null,
      "metadata": {
        "id": "q-CyulFuDqzy"
      },
      "outputs": [],
      "source": [
        "#TEST_CELL\n",
        "corr, p = corr_matrix(nuevo_df)\n",
        "corr = pd.DataFrame(corr, columns=list(nuevo_df.columns)[:-1], index=list(nuevo_df.columns)[:-1])\n",
        "p = pd.DataFrame(p, columns=list(nuevo_df.columns)[:-1], index=list(nuevo_df.columns)[:-1])"
      ]
    },
    {
      "cell_type": "code",
      "execution_count": null,
      "metadata": {
        "id": "FBgJAOcg9nI-"
      },
      "outputs": [],
      "source": [
        "#TEST_CELL\n",
        "corr"
      ]
    },
    {
      "cell_type": "markdown",
      "metadata": {
        "id": "tmwXkCCv9nOI"
      },
      "source": [
        "La salida de la celda anterior debería ser (no se muestran todos los caracteres):\n",
        "```python\n",
        "        tamaño    peso   dulce   suave  tiempo  maduro  acidez\n",
        "tamaño  1.0000 -0.1819 -0.2580  0.1645  0.5820  0.0425 -0.1406\n",
        "peso   -0.1819  1.0000  0.4226 -0.1899 -0.0794 -0.0352  0.4438\n",
        "dulce  -0.2580  0.4226  1.0000 -0.0953 -0.2016  0.1800  0.1870\n",
        "suave   0.1645 -0.1899 -0.0953  1.0000  0.1947 -0.2538 -0.1460\n",
        "tiempo  0.5820 -0.0794 -0.2016  0.1947  1.0000  0.1071 -0.0909\n",
        "maduro  0.0425 -0.0352  0.1800 -0.2538  0.1071  1.0000 -0.3515\n",
        "acidez -0.1406  0.4438  0.1870 -0.1460 -0.0909 -0.3515  1.0000\n",
        "\n",
        "```"
      ]
    },
    {
      "cell_type": "code",
      "execution_count": null,
      "metadata": {
        "id": "QJpeVkob941T"
      },
      "outputs": [],
      "source": [
        "#TEST_CELL\n",
        "p"
      ]
    },
    {
      "cell_type": "markdown",
      "metadata": {
        "id": "dTHTmw3398aP"
      },
      "source": [
        "La salida de la celda anterior debería ser (no se muestran todos los caracteres):\n",
        "```python\n",
        "            tamaño         peso         dulce         suave       tiempo        maduro        acidez   \n",
        "tamaño   .000000e+00  .699362e-60  .595967e-122   .181700e-49  .000000e+00   .388298e-04   .220745e-36   \n",
        "peso     .699362e-60  .000000e+00   .000000e+00   .533336e-66  .097636e-12   .601479e-03   .000000e+00  \n",
        "dulce   .595967e-122  .000000e+00   .000000e+00   .281088e-17  .489117e-74   .688670e-59   .573276e-64  \n",
        "suave    .181700e-49  .533336e-66   .281088e-17   .000000e+00  .304467e-69  .017667e-118   .268244e-39  \n",
        "tiempo   .000000e+00  .097636e-12   .489117e-74   .304467e-69  .000000e+00   .403426e-22   .755373e-16  \n",
        "maduro   .388298e-04  .601479e-03   .688670e-59  .017667e-118  .403426e-22   .000000e+00  .098328e-231   \n",
        "acidez   .220745e-36  .000000e+00   .573276e-64   .268244e-39  .755373e-16  .098328e-231   .000000e+00\n",
        "```"
      ]
    },
    {
      "cell_type": "markdown",
      "metadata": {
        "id": "gh0ct8wVAlg4"
      },
      "source": [
        "### **Evaluar código**"
      ]
    },
    {
      "cell_type": "code",
      "execution_count": null,
      "metadata": {
        "id": "rnCi67qkGOo7"
      },
      "outputs": [],
      "source": [
        "grader.run_test(\"Test 2_1\", globals())"
      ]
    },
    {
      "cell_type": "code",
      "execution_count": null,
      "metadata": {
        "id": "muxjR1tKMOVw"
      },
      "outputs": [],
      "source": [
        "grader.run_test(\"Test 2_2\", globals())"
      ]
    },
    {
      "cell_type": "markdown",
      "metadata": {
        "id": "igEGSOUIP0H9"
      },
      "source": [
        "## **3. ¿Se puede distinguir entre las calidades?**\n",
        "---\n",
        "\n",
        "Las estadísticas descriptivas sugieren que algunas características pueden ser útiles para distinguir entre frutos de buena y mala calidad.\n",
        "\n",
        "Tu tarea consiste en implementar la función **`anova_calidad`**, que aplicará el ANOVA (Análisis de la Varianza) como prueba de hipótesis en cada variable para determinar cuáles permiten separar adecuadamente los datos bajo un determinado nivel de significancia.\n",
        "\n",
        "**Entrada:**\n",
        "  * **`nuevo_df`**: Conjunto de datos con las modificaciones indicadas anteriormente.\n",
        "  * **`significancia`**: Umbral de corte para el test estadístico.\n",
        "\n",
        "\n",
        "**Salida:**  \n",
        "  * **`resultados_test`**: Dataframe con dos columnas\n",
        "    * `variable`: Nombre de la característica evaluada.\n",
        "    * `resultado`: Valor booleano que indica si, según su p-valor, la hipótesis nula fue rechazada"
      ]
    },
    {
      "cell_type": "markdown",
      "metadata": {
        "id": "jB5p2sM-xwBH"
      },
      "source": [
        "<details>    \n",
        "<summary>\n",
        "    <font size=\"3\" color=\"darkgreen\"><b>Pistas</b></font>\n",
        "</summary>\n",
        "\n",
        "\n",
        "* Puede realizar selección condicional en un eje y selección por etiquetas en otro con el atributo **.loc**.\n",
        "* puede emplear el metodo `f_oneway` precente en scipy\n"
      ]
    },
    {
      "cell_type": "code",
      "execution_count": null,
      "metadata": {
        "id": "JZk2DZkigKE4"
      },
      "outputs": [],
      "source": [
        "# FUNCIÓN CALIFICADA anova_calidad:\n",
        "def anova_calidad(nuevo_df, significancia):\n",
        "\n",
        "    ### ESCRIBA SU CÓDIGO AQUÍ ### (~ 10 líneas de código)\n",
        "\n",
        "\n",
        "    # Si prefiere, podría ser necesario borrar la siguiente línea y definir las variables una a la vez.\n",
        "    resultados_test = None\n",
        "\n",
        "    return resultados_test"
      ]
    },
    {
      "cell_type": "code",
      "execution_count": null,
      "metadata": {
        "id": "ido5wC1GTNiD"
      },
      "outputs": [],
      "source": [
        "#TEST_CELL\n",
        "print(anova_calidad(nuevo_df, 0.05))"
      ]
    },
    {
      "cell_type": "markdown",
      "metadata": {
        "id": "nBJ91Z8HhmOM"
      },
      "source": [
        "La salida de la celda anterior debería ser:\n",
        "```python\n",
        "  variable  resultado\n",
        "0   tamaño       True\n",
        "1     peso       True\n",
        "2    dulce       True\n",
        "3    suave      False\n",
        "4   tiempo       True\n",
        "5   maduro       True\n",
        "6   acidez      False\n",
        "```"
      ]
    },
    {
      "cell_type": "code",
      "execution_count": null,
      "metadata": {
        "id": "QLcnxA0-hv8A"
      },
      "outputs": [],
      "source": [
        "#TEST_CELL\n",
        "print(anova_calidad(nuevo_df, 1))"
      ]
    },
    {
      "cell_type": "markdown",
      "metadata": {
        "id": "zYZvs3sGh1_Z"
      },
      "source": [
        "La salida de la celda anterior debería ser:\n",
        "```python\n",
        "  variable  resultado\n",
        "0   tamaño       True\n",
        "1     peso       True\n",
        "2    dulce       True\n",
        "3    suave       True\n",
        "4   tiempo       True\n",
        "5   maduro       True\n",
        "6   acidez       True\n",
        "```"
      ]
    },
    {
      "cell_type": "markdown",
      "metadata": {
        "id": "_qxXf2xhiSpj"
      },
      "source": [
        "### **Evaluar código**"
      ]
    },
    {
      "cell_type": "code",
      "execution_count": null,
      "metadata": {
        "id": "nsj1_pHQNP-P"
      },
      "outputs": [],
      "source": [
        "grader.run_test(\"Test 3_1\", globals())"
      ]
    },
    {
      "cell_type": "code",
      "execution_count": null,
      "metadata": {
        "id": "3uu3j-KdQYb4"
      },
      "outputs": [],
      "source": [
        "grader.run_test(\"Test 3_2\", globals())"
      ]
    },
    {
      "cell_type": "code",
      "execution_count": null,
      "metadata": {
        "id": "Q5FOb3fmVEsg"
      },
      "outputs": [],
      "source": [
        "grader.run_test(\"Test 3_3\", globals())"
      ]
    },
    {
      "cell_type": "markdown",
      "metadata": {
        "id": "Kb9HcjxFX7Zx"
      },
      "source": [
        "## **4. ¿Podemos distinguir las calidades de fruto usando una regresión logística?**\n",
        "---\n",
        "\n",
        "Una de las tareas principales que se realiza durante el proceso de modelado de datos es implementar algoritmos que clasifiquen observaciones en algunas categorías dadas, por ejemplo, la calidad de un fruto.\n",
        "\n",
        "Una alternativa, usando métodos tradicionales de modelado estadístico, es calcular una **regresión logística** la cual genera valores numéricos que tienden a dos puntos discretos predominantes. Aunque existen otros clasificadores que podrían funcionar mejor para esta tarea, en este ejercicio implementaremos un clasificador basado en regresión logística con fines demostrativos.\n",
        "\n",
        "Tu tarea consiste en implementar la función **`calcular_logit`**, que tomará como parámetro el nombre de una variable independiente. La variable dependiente será **`buena_calidad`** que se calculó en el **Ejercicio 1**.\n",
        "\n",
        "Ten en cuenta que este ejercicio depende de los cálculos realizados previamente.\n",
        "\n",
        "\n",
        "La fórmula de la regresión logística en una variable es la siguiente:\n",
        "\n",
        "  $$y = \\frac{1}{1 + e^{-(\\beta_0 + \\beta_1 x)}}$$\n",
        "\n",
        "Donde:\n",
        "- $y$ representa la probabilidad de que el fruto sea de buena calidad.\n",
        "- $\\beta_0$ es el término independiente del modelo.\n",
        "- $\\beta_1$ es el coeficiente asociado a la variable independiente $x$\n",
        "- $e$ es la base del logaritmo natural.\n",
        "\n",
        "**Entrada:**\n",
        "  * **`nuevo_df`** (DataFrame): Conjunto de datos con las modificaciones establecidas en ejercicios anteriores.\n",
        "  * **`variable`** (str): Nombre de la variable numérica independiente sobre la que se realizará el cálculo (tamaño, peso, etc.).\n",
        "\n",
        "**Salida:**\n",
        "  * **`y_values`** (array): Valores del eje $y$ obtenidos a partir del modelo de regresión logística. Este arreglo se obtiene aplicando la fórmula de regresión logística sobre la `variable` con los parámetros estimados. Debe tener el mismo tamaño que la variable de entrada."
      ]
    },
    {
      "cell_type": "markdown",
      "metadata": {
        "id": "Pgw3FYCXzvQu"
      },
      "source": [
        "<details>    \n",
        "<summary>\n",
        "    <font size=\"3\" color=\"darkgreen\"><b>Pistas</b></font>\n",
        "</summary>\n",
        "\n",
        "* En este ejercicio, deberá usar **`statsmodels`** y el método **`sm.GLM.from_formula`** como se discutió en la guía de modelado estadístico. Para esto deberá construir con cadenas de texto la fórmula en el formato apropiado.\n",
        "* El aproximamiento recomendado es obtener los coeficientes de la regresión al aplicar la formula de predicción y entonces utilizarlos con operaciones matemáticas sobre la variable independiente.\n",
        "*  Los parámetros se pueden obtener con el atributo **`params`** en la variable de resultado (nombrada **`result`** en la guía) de la construcción del modelo. Este objeto contiene en una tupla los coeficientes $\\beta_0$ y $\\beta_1$.\n",
        "*  Recuerde que puede aplicar directamente una función sobre un arreglo de *NumPy* que da como resultado otro arreglo del mismo tamaño."
      ]
    },
    {
      "cell_type": "code",
      "execution_count": null,
      "metadata": {
        "id": "kGuOEc37jghR"
      },
      "outputs": [],
      "source": [
        "# FUNCIÓN CALIFICADA corr_matrix:\n",
        "def calcular_logit(nuevo_df, variable):\n",
        "\n",
        "    ### ESCRIBA SU CÓDIGO AQUÍ ### (~ 6 líneas de código)\n",
        "\n",
        "\n",
        "    # Si prefiere, podría ser necesario borrar la siguiente línea y definir las variables una a la vez.\n",
        "    y_values = None\n",
        "\n",
        "    return y_values"
      ]
    },
    {
      "cell_type": "code",
      "execution_count": null,
      "metadata": {
        "id": "N8AGKAM6KvmP"
      },
      "outputs": [],
      "source": [
        "#TEST_CELL\n",
        "y = calcular_logit(nuevo_df, 'tamaño') # Su función debe producir una solución correcta.\n",
        "np.round(y[:8], 4)"
      ]
    },
    {
      "cell_type": "markdown",
      "metadata": {
        "id": "JMUWFf_ckbDA"
      },
      "source": [
        "La salida de la celda anterior debería ser :\n",
        "```python\n",
        "array([0.6058, 0.6484, 0.4604, 0.5083, 0.3686, 0.6817, 0.4485, 0.5531])\n",
        "```"
      ]
    },
    {
      "cell_type": "code",
      "execution_count": null,
      "metadata": {
        "id": "PAqsIFC7lMJj"
      },
      "outputs": [],
      "source": [
        "#TEST_CELL\n",
        "y = calcular_logit(nuevo_df, 'peso') # Su función debe producir una solución correcta.\n",
        "np.round(y[:8], 2)"
      ]
    },
    {
      "cell_type": "markdown",
      "metadata": {
        "id": "GyehDRRXlRNS"
      },
      "source": [
        "La salida de la celda anterior debería ser :\n",
        "```python\n",
        "array([0.37, 0.36, 0.27, 0.26, 0.28, 0.3 , 0.17, 0.15])\n",
        "```"
      ]
    },
    {
      "cell_type": "markdown",
      "metadata": {
        "id": "z0x8-9VYlZpk"
      },
      "source": [
        "### **Evaluar código**"
      ]
    },
    {
      "cell_type": "code",
      "execution_count": null,
      "metadata": {
        "id": "Vg0Q-1raVeiS"
      },
      "outputs": [],
      "source": [
        "grader.run_test(\"Test 4_1\", globals())"
      ]
    },
    {
      "cell_type": "code",
      "execution_count": null,
      "metadata": {
        "id": "bn0LfU4wYXoj"
      },
      "outputs": [],
      "source": [
        "grader.run_test(\"Test 4_2\", globals())"
      ]
    },
    {
      "cell_type": "code",
      "execution_count": null,
      "metadata": {
        "id": "IbuzGYxCYwFd"
      },
      "outputs": [],
      "source": [
        "grader.run_test(\"Test 4_3\", globals())"
      ]
    },
    {
      "cell_type": "markdown",
      "metadata": {
        "id": "-XhuCI3e93X_"
      },
      "source": [
        "## **5. ¿El modelo genera una buena predicción?**\n",
        "---\n",
        "\n",
        "Los resultados obtenidos en el punto anterior indican que, en algunos casos, el modelo de regresión logística clasifica correctamente la calidad del fruto. Ahora evaluaremos su desempeño utilizando la **exactitud** (*accuracy*), una métrica común para evaluar clasificadores.\n",
        "\n",
        "$$Accuracy = \\frac{número\\ de\\ aciertos}{total\\ de\\ observaciones}$$\n",
        "\n",
        "Su tarea es implementar la función **`evaluar_logit`**, que validará la exactitud de la regresión logística aproximando los valores obtenidos. Para ello, deberás seguir estos pasos:\n",
        "\n",
        "  1. Crear una nueva columna **`modelo_logit`** con los valores obtenidos al llamar a la función  **`calcular_logit`** utilizando la especie y la variable independiente correspondiente\n",
        "\n",
        "  2. Crear una nueva columna **`predicción`**, redondeando al entero más cercano los valores en  **`modelo_logit`**. Esta predicción se consigue encontrando la clase más cercana al número obtenido. La clase asignada será  la clase es **`0`** si el valor es menor a `0.5`, y **`1`** en caso contrario.\n",
        "\n",
        "  3. Comparar la predicción con los valores reales de la columna **`buena_calidad`**, Crear una nueva columna **`acierto`**, que contendrá valores `True` si la predicción fue correcta y `False` en caso contrario.\n",
        "\n",
        "Finalmente, la función debe devolver un nuevo DataFrame con las columnas adicionales: **`modelo_logit`**, **`predicción`** y **`acierto`**.\n",
        "\n",
        "\n",
        "**Entrada:**\n",
        "  * **`nuevo_df`** *(DataFrame)*: Conjunto de datos con las modificaciones establecidas en ejercicios anteriores.\n",
        "  * **`variable`** *(str)*: Nombre de la variable numérica independiente utilizada para la predicción (tamaño, peso, etc.).\n",
        "  \n",
        "**Salida:**\n",
        "  * **`df_mod`** *(DataFrame)*:  Copia del *DataFrame* original con las nuevas columnas agregadas."
      ]
    },
    {
      "cell_type": "markdown",
      "metadata": {
        "id": "EiUdiOAh2SyA"
      },
      "source": [
        "<details>    \n",
        "<summary>\n",
        "    <font size=\"3\" color=\"darkgreen\"><b>Pistas</b></font>\n",
        "</summary>\n",
        "<p>\n",
        "\n",
        "* Para este ejercicio, deberá llamar a la función **`calcular_logit`**. Si esa función retorna valores incorrectos, el resultado de este punto también fallará.\n",
        "*  Tenga muy en cuenta cuál es la variable objetivo, determinada por la especie, y cuál la variable independiente.\n",
        "*  Puede usar métodos matemáticos de *NumPy* como **`np.rint`** para identificar directamente el entero más cercano de los valores de un arreglo."
      ]
    },
    {
      "cell_type": "code",
      "execution_count": null,
      "metadata": {
        "id": "AKkQHmSpCnE4"
      },
      "outputs": [],
      "source": [
        "# FUNCIÓN CALIFICADA corr_matrix:\n",
        "def evaluar_logit(nuevo_df,variable):\n",
        "\n",
        "    ### ESCRIBA SU CÓDIGO AQUÍ ### (~ 5 líneas de código)\n",
        "\n",
        "\n",
        "    # Si prefiere, podría ser necesario borrar la siguiente línea y definir las variables una a la vez.\n",
        "    df_mod = None\n",
        "\n",
        "    return df_mod"
      ]
    },
    {
      "cell_type": "code",
      "execution_count": null,
      "metadata": {
        "id": "GLtgw6XFr_tq"
      },
      "outputs": [],
      "source": [
        "def evaluar_logit(nuevo_df,variable):\n",
        "    df_mod = nuevo_df.copy()\n",
        "    df_mod['modelo_logit'] = calcular_logit(df_mod, variable)\n",
        "    df_mod['predicción'] = np.rint(df_mod['modelo_logit'])\n",
        "    df_mod['acierto'] = df_mod['predicción'] == df_mod['buena_calidad']\n",
        "\n",
        "    return df_mod"
      ]
    },
    {
      "cell_type": "code",
      "execution_count": null,
      "metadata": {
        "id": "a8YwusClL97h"
      },
      "outputs": [],
      "source": [
        "#TEST_CELL\n",
        "print(evaluar_logit(nuevo_df,'tamaño')[\n",
        "      ['buena_calidad','modelo_logit', 'predicción', 'acierto']\n",
        "    ].head(10))"
      ]
    },
    {
      "cell_type": "markdown",
      "metadata": {
        "id": "zBUPGLvQOEBB"
      },
      "source": [
        "La salida de la celda anterior debería ser :\n",
        "```python\n",
        "   buena_calidad  modelo_logit  predicción  acierto\n",
        "0           True      0.605843         1.0     True\n",
        "1           True      0.648393         1.0     True\n",
        "2           True      0.460356         0.0    False\n",
        "3           True      0.508253         1.0     True\n",
        "4           True      0.368629         0.0    False\n",
        "5           True      0.681675         1.0     True\n",
        "6           True      0.448492         0.0    False\n",
        "7           True      0.553130         1.0     True\n",
        "8           True      0.613643         1.0     True\n",
        "9           True      0.422342         0.0    False\n",
        "```"
      ]
    },
    {
      "cell_type": "markdown",
      "metadata": {
        "id": "mEhA3YIwOMWr"
      },
      "source": [
        "### **Evaluar código**"
      ]
    },
    {
      "cell_type": "code",
      "execution_count": null,
      "metadata": {
        "id": "ixs8Z3_xrAAN"
      },
      "outputs": [],
      "source": [
        "grader.run_test(\"Test 5_1\", globals())"
      ]
    },
    {
      "cell_type": "code",
      "execution_count": null,
      "metadata": {
        "id": "FPEVEmdz1VYN"
      },
      "outputs": [],
      "source": [
        "grader.run_test(\"Test 5_2\", globals())"
      ]
    },
    {
      "cell_type": "code",
      "execution_count": null,
      "metadata": {
        "id": "aAn0_3Vd11nt"
      },
      "outputs": [],
      "source": [
        "grader.run_test(\"Test 5_3\", globals())"
      ]
    },
    {
      "cell_type": "code",
      "execution_count": null,
      "metadata": {
        "id": "oTwDodIR2HCq"
      },
      "outputs": [],
      "source": [
        "grader.run_test(\"Test 5_4\", globals())"
      ]
    },
    {
      "cell_type": "markdown",
      "metadata": {
        "id": "lkxuBtI355OP"
      },
      "source": [
        "Como se puede ver con los resultados de este último ejercicio, el modelo comete algunos errores, sin embargo el uso de otras variables puede mejoro los resultados. Puede hacer pruebas con otras combinaciones por su parte y evaluar el modelo nuevamente.\n",
        "\n",
        "Tenga en cuenta que los fundamentos conceptuales y lineamientos prácticos detallados para construir clasificadores más avanzados se discutirán en el **Módulo 2: Introducción a *Machine Learning* con *Python***."
      ]
    },
    {
      "cell_type": "markdown",
      "metadata": {
        "id": "4luKKP58V-Qs"
      },
      "source": [
        "## **Evaluación**\n",
        "**¡Felicitaciones!** Ha terminado la tarea de la Unidad 3. ¡Excelente trabajo!\n"
      ]
    },
    {
      "cell_type": "code",
      "execution_count": null,
      "metadata": {
        "id": "YM8vwPnr_JGD"
      },
      "outputs": [],
      "source": [
        "grader.submit_task(globals())"
      ]
    },
    {
      "cell_type": "markdown",
      "metadata": {
        "id": "JJbV7A38uZhC"
      },
      "source": [
        "## **Créditos**\n",
        "---\n",
        "* **Profesor:** [Felipe Restrepo Calle](https://ferestrepoca.github.io/), [Luis Fernando Niño](https://dis.unal.edu.co/~lfninov/)\n",
        "* **Asistentes docentes:**\n",
        "    - [Juan Sebastián Malagón Torres](https://www.linkedin.com/in/juan-sebastian-lara-ramirez-43570a214/).\n",
        "* **Diseño de imágenes:**\n",
        "    - [Sebastián Daniel Moreno Martinez](mailto:rsuperlano@unal.edu.co).\n",
        "* **Coordinador de virtualización:**\n",
        "    - [Edder Hernández Forero](https://www.linkedin.com/in/edder-hernandez-forero-28aa8b207/).\n",
        "    \n",
        "**Universidad Nacional de Colombia** - *Facultad de Ingeniería*\n"
      ]
    }
  ],
  "metadata": {
    "colab": {
      "provenance": [],
      "include_colab_link": true
    },
    "kernelspec": {
      "display_name": "Python 3",
      "name": "python3"
    }
  },
  "nbformat": 4,
  "nbformat_minor": 0
}