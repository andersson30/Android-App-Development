{
  "cells": [
    {
      "cell_type": "markdown",
      "metadata": {
        "id": "view-in-github",
        "colab_type": "text"
      },
      "source": [
        "<a href=\"https://colab.research.google.com/github/andersson30/Android-App-Development/blob/master/CL_NBK_Tarea_1.ipynb\" target=\"_parent\"><img src=\"https://colab.research.google.com/assets/colab-badge.svg\" alt=\"Open In Colab\"/></a>"
      ]
    },
    {
      "cell_type": "markdown",
      "metadata": {
        "id": "XKOWh-r8MLGq"
      },
      "source": [
        "<img src = \"https://drive.google.com/uc?export=view&id=13qgLt1GChCQgM3eb5SU5PoZjR7NYmSil\" alt = \"Encabezado MLDS\" width = \"100%\">  </img>"
      ]
    },
    {
      "cell_type": "markdown",
      "metadata": {
        "id": "IonuYotBN6_Y"
      },
      "source": [
        "# **Tarea 1 - Introducción al análisis de datos: *Python* y *NumPy***\n",
        "---\n",
        "Esta tarea le permitirá practicar y aplicar las habilidades adquiridas para la escritura de código en el lenguaje de programación *Python* y su librería de numérica *NumPy*.\n",
        "\n",
        "> **Nota:** Esta tarea va a ser calificada estableciendo una conexión con **[UNCode](https://juezun.github.io/)**. La conexión se realizará al ejecutar la celda indicada e ingresando los datos de usuariio.En cada ejercicio se indicará si es calificable o no, también los lugares donde debe escribir su código sin modificar lo demás con un aproximado de cantidad de líneas a escribir. No se preocupe si su código toma más líneas, esto es simplemente un aproximado destinado a que pueda replantear su estrategia si el código está tomando más de las esperadas. No es un requisito estricto y soluciones más largas también son válidas.\n",
        "\n",
        "> **La tarea es incremental, es recomendable resolver los puntos en orden.**\n",
        "\n",
        "> En caso de tener dudas de cómo solucionar este tipo de ejercicios, por favor consultar el demo en la unidad 0"
      ]
    },
    {
      "cell_type": "markdown",
      "metadata": {
        "id": "pxQV2PvQjHc_"
      },
      "source": [
        "Ejecute las siguientes celdas para importar las librerías y conocer sus respectivas versiones."
      ]
    },
    {
      "cell_type": "code",
      "execution_count": null,
      "metadata": {
        "id": "puqicAezq-ra"
      },
      "outputs": [],
      "source": [
        "#TEST_CELL\n",
        "import numpy as np"
      ]
    },
    {
      "cell_type": "code",
      "execution_count": null,
      "metadata": {
        "id": "CNSeA2Jfrr20"
      },
      "outputs": [],
      "source": [
        "#TEST_CELL\n",
        "!python --version\n",
        "print('NumPy', np.__version__)"
      ]
    },
    {
      "cell_type": "markdown",
      "metadata": {
        "id": "Sx-3yPQtq5iv"
      },
      "source": [
        "Este material fue realizado con las siguientes versiones:\n",
        "\n",
        "*  *Python*: 3.11.13\n",
        "*  *NumPy*:  2.0.2\n"
      ]
    },
    {
      "cell_type": "markdown",
      "metadata": {
        "id": "OAvU_HhDQjWy"
      },
      "source": [
        "## **Conexión UNCode**"
      ]
    },
    {
      "cell_type": "code",
      "execution_count": 122,
      "metadata": {
        "id": "4PAttzPSPmOu"
      },
      "outputs": [],
      "source": [
        "%%capture\n",
        "!pip install rlxcrypt\n",
        "!wget --no-cache -O session.pye -q https://raw.githubusercontent.com/JuezUN/INGInious/master/external%20libs/session.pye"
      ]
    },
    {
      "cell_type": "code",
      "execution_count": 124,
      "metadata": {
        "id": "5gaFeAXkPnwg",
        "colab": {
          "base_uri": "https://localhost:8080/",
          "height": 289
        },
        "outputId": "f81532a3-912a-490d-fd57-177eec921971"
      },
      "outputs": [
        {
          "output_type": "display_data",
          "data": {
            "text/plain": [
              "<IPython.core.display.HTML object>"
            ],
            "text/html": [
              "\n",
              "    <div>\n",
              "    <div style=\"display: flex\">\n",
              "        <div style=\"padding: 10px\">\n",
              "          <img\n",
              "            src=\"https://uncode.unal.edu.co/static/images/logo_unc.svg\"\n",
              "            width=\"50px\"\n",
              "            height=\"50px\"\n",
              "          />\n",
              "        </div>\n",
              "      \n",
              "        <div>\n",
              "          <h2>UNCode Notebooks grader API</h2>\n",
              "          <hr />\n",
              "        </div>\n",
              "      </div>\n",
              "      \n",
              "      <div style=\"display: flex\">\n",
              "        <span>Please enter authentication data</span>\n",
              "      </div>\n",
              "    </div>\n",
              "    "
            ]
          },
          "metadata": {}
        },
        {
          "name": "stdout",
          "output_type": "stream",
          "text": [
            "Please enter your UNCode username: anavilaroj\n",
            "Please enter your password: ··········\n"
          ]
        },
        {
          "output_type": "display_data",
          "data": {
            "text/plain": [
              "<IPython.core.display.HTML object>"
            ],
            "text/html": [
              "<h5 style=\"color: green\"><Response [200]></h5>"
            ]
          },
          "metadata": {}
        },
        {
          "output_type": "display_data",
          "data": {
            "text/plain": [
              "<IPython.core.display.HTML object>"
            ],
            "text/html": [
              "<h5 style=\"color: green\">Auth process succeeded</h5>"
            ]
          },
          "metadata": {}
        },
        {
          "output_type": "display_data",
          "data": {
            "text/plain": [
              "<IPython.core.display.HTML object>"
            ],
            "text/html": [
              "<h5>View your courses <a href=\"https://uncode.unal.edu.co/courselist\">at UNCode platform</a></h5>"
            ]
          },
          "metadata": {}
        },
        {
          "output_type": "display_data",
          "data": {
            "text/plain": [
              "<IPython.core.display.HTML object>"
            ],
            "text/html": [
              "<h3>You will sumbit code to course: <span style=\"color: green\">Análisis y visualización de datos | Grupo MLDS-1 | 2025 - 2<span></h3>"
            ]
          },
          "metadata": {}
        },
        {
          "output_type": "display_data",
          "data": {
            "text/plain": [
              "<IPython.core.display.HTML object>"
            ],
            "text/html": [
              "<h3>You will sumbit code to task: <span style=\"color: blue\">CL Tarea 1 - Introducción al análisis de datos con Python<span></h3>"
            ]
          },
          "metadata": {}
        }
      ],
      "source": [
        "import rlxcrypt\n",
        "import session\n",
        "\n",
        "grader = session.LoginSequence(\"AYVDD-GroupMLDS-1-2025-2@tarea_1\")"
      ]
    },
    {
      "cell_type": "markdown",
      "metadata": {
        "id": "QeIfmptGfll3"
      },
      "source": [
        "## **Contexto**\n",
        "\n",
        "El \"Caesars Palace\", uno de los casinos más importantes de Las Vegas, siempre ha prometido una experiencia de juego inigualable. Sin embargo, detrás del brillo de las luces y el sonido de las máquinas tragamonedas, yace un desafío constante: asegurar la integridad del juego y la equidad para todos los jugadores. En esta búsqueda de transparencia y confianza, el \"Caesars Palace\" los contrató para desarrollar una serie de algoritmos que permitirán verificar la legitimidad de los jugadores y sus victorias.\n",
        "\n",
        "\n",
        "\n",
        "<center>\n",
        "  <img src = \"https://drive.google.com/uc?export=view&id=1w95x5h5-nKRtyuRcfQb84mtooqpdtOrQ\" alt = \"Casino\" width = \"80%\">  \n",
        "  </img>\n",
        "</center>\n"
      ]
    },
    {
      "cell_type": "markdown",
      "metadata": {
        "id": "_iPmsk70gfdf"
      },
      "source": [
        "## **1. Valor esperado**\n",
        "---\n",
        "\n",
        "Como parte del equipo de desarrollo del \"Caesars Palace\", su tarea es emplear sus habilidades de programación para analizar la integridad de los dados utilizados en el juego  Craps (dados). Este juego se basa en el resultado del lanzamiento de dos dados, sobre el cual los jugadores apuestan; finalmente, los que hayan tenido una mayor proximidad al resultado observado son declarados ganadores en cada ronda, tras la cual podrán retirar su dinero o apostar nuevamente.\n",
        "\n",
        "<center>\n",
        "  <img src = \"https://drive.google.com/uc?export=view&id=1yQxMqnfl5ZSeu_TxKRLlH8NF8W0U07X6\" alt = \"Dados\" width = \"80%\">  \n",
        "  </img>\n",
        "</center>\n",
        "\n",
        "Una de las formas en que la integridad del juego puede verse afectada es la presencia de dados cargados. Con frecuencia, los lanzamientos van desgastándolos, haciendo más probable que caigan en algunas caras que en otras. Algunos jugadores experimentados son capaces de darse cuenta de este fenómeno, aprovechándolo para apostar por los valores más probables y así mejorar su racha de victorias.\n",
        "\n",
        "\n",
        "Para enfrentar este fenómeno, el casino ha registrado los resultados de varios lanzamientos de un dado a la vez en múltiples partidas. Esta información se le provee en forma de un arreglo de `numpy`, donde cada registro corresponde al resultado en un lanzamiento. **A partir de esto, le solicita que con esta información pueda detectar sin un dado está cargado o no por medio de la medición del valor esperado.**\n",
        "\n",
        "En un dado justo y balanceado, el valor esperado se aproxima a 3.5. Si el valor esperado de los dados se desvía significativamente de este valor, es probable que esté cargado, lo que podría afectar la equidad del juego. Su análisis proporcionará información crucial para asegurar la integridad y la transparencia del casino.\n",
        "\n",
        "Recuerde que el valor esperado puede calcularce como :\n",
        "\n",
        "$$ E[x] = \\frac{1}{n} \\sum x_i $$\n",
        "\n",
        "donde:\n",
        "* $E[x]$ corresponde al valor esperado\n",
        "* $n$ numero de lanzamientos\n",
        "* $x_i$ el valor obtenido en cada uno de los lanzamientos.\n",
        "\n",
        "Adicionalmente, el casino le solicita que el cálculo se realice de la forma más eficiente posible, priorizando el rendimiento y la optimización del código. Por esta razón, se solicita evitar el uso de funciones predefinidas de NumPy como `np.mean` y `np.sum`, ya que pueden introducir sobrecarga computacional en este caso particular. En su lugar, se requiere implementar el cálculo del valor esperado de manera manual, utilizando multiplicaciones matriciales.\n"
      ]
    },
    {
      "cell_type": "markdown",
      "metadata": {
        "id": "o4v3migL8W0w"
      },
      "source": [
        "**Parámetros**\n",
        "\n",
        "* `lanzamientos`: arreglo de numpy con los resultados de lanzamientos de 1 a 6.\n",
        "\n",
        "**Retorna**\n",
        "\n",
        "* `results`: Valor promedio de los lanzamientos"
      ]
    },
    {
      "cell_type": "markdown",
      "metadata": {
        "id": "VEwjASRh7pTc"
      },
      "source": [
        "<details>    \n",
        "<summary>\n",
        "    <font size=\"3\" color=\"darkgreen\"><b>Pistas</b></font>\n",
        "</summary>\n",
        "\n",
        "* La suma de todos los valores de un vector fila se puede obtener realizando el producto matricial por un vector columna de unos.\n"
      ]
    },
    {
      "cell_type": "code",
      "execution_count": null,
      "metadata": {
        "id": "6sNDkXB-M26B"
      },
      "outputs": [],
      "source": [
        "# FUNCIÓN CALIFICADA: valor_esperado(lanzamientos)\n",
        "def valor_esperado(lanzamientos):\n",
        "    \"\"\"\n",
        "    lanzamientos: un arreglo de NumPy con valores enteros no negativos. Contiene los valores obtenidos en los ultimos 10 lanzamientos.\n",
        "\n",
        "    Retorna un flotante correspondiente al valor esperado de los lanzamientos.\n",
        "    \"\"\"\n",
        "    ### ESCRIBA SU CÓDIGO AQUÍ ###\n",
        "    # Reemplace la palabra None por el código correspondiente\n",
        "    # ~ 6 líneas de código\n",
        "\n",
        "    # Convierta los lanzamiento en vector fila\n",
        "    a=lanzamientos.reshape(1, -1)\n",
        "    # Cree un vector columna de unos con el mismo tamaño de la variable lanzamientos\n",
        "    b=np.ones(lanzamientos.shape).reshape(-1, 1)\n",
        "    # multiplique los vectores obtenidos\n",
        "    c=np.dot(a,b)\n",
        "    # divida el valor obtenido en el tamaño\n",
        "    esperado=c/lanzamientos.size\n",
        "    ### FIN DEL CÓDIGO ###\n",
        "\n",
        "    return float(esperado.item())"
      ]
    },
    {
      "cell_type": "code",
      "execution_count": null,
      "metadata": {
        "id": "ZXeej4ZOl44u"
      },
      "outputs": [],
      "source": [
        "#TEST_CELL\n",
        "np.random.seed(73)\n",
        "lanzamientos = np.random.randint(1,7,100)\n",
        "esperado = valor_esperado(lanzamientos)\n",
        "print(esperado)"
      ]
    },
    {
      "cell_type": "markdown",
      "metadata": {
        "id": "cKxUjk7d71as"
      },
      "source": [
        "**Salida esperada**:\n",
        "\n",
        "En este primer ejemplo se obtienen los elementos de la primera URL en el conjunto de datos:\n",
        "\n",
        "```python\n",
        "3.45\n",
        "```"
      ]
    },
    {
      "cell_type": "code",
      "execution_count": null,
      "metadata": {
        "id": "GNe0jy1u8_nJ"
      },
      "outputs": [],
      "source": [
        "#TEST_CELL\n",
        "lanzamientos = np.array([1,1,1,2,2,2,3,3,3,4,4,4,5,5,5,6,6,6])\n",
        "esperado = valor_esperado(lanzamientos)\n",
        "print(esperado)"
      ]
    },
    {
      "cell_type": "markdown",
      "metadata": {
        "id": "aMFHV9fv8_nJ"
      },
      "source": [
        "**Salida esperada**:\n",
        "\n",
        "```python\n",
        "3.5\n",
        "```"
      ]
    },
    {
      "cell_type": "code",
      "execution_count": null,
      "metadata": {
        "id": "AYoIAgHHKD7h"
      },
      "outputs": [],
      "source": [
        "#TEST_CELL\n",
        "lanzamientos = np.array([1,6,1,4,1,2,2,5,5,4,1,1])\n",
        "esperado = valor_esperado(lanzamientos)\n",
        "print(esperado)"
      ]
    },
    {
      "cell_type": "markdown",
      "metadata": {
        "id": "T4kWG8x3KD7h"
      },
      "source": [
        "**Salida esperada**:\n",
        "\n",
        "```python\n",
        "2.75\n",
        "```"
      ]
    },
    {
      "cell_type": "markdown",
      "metadata": {
        "id": "x-MNudWsRV1I"
      },
      "source": [
        "### **Evaluar código**"
      ]
    },
    {
      "cell_type": "code",
      "execution_count": null,
      "metadata": {
        "id": "OuitWhqhxPN1"
      },
      "outputs": [],
      "source": [
        "grader.run_test(\"Test 1_1\", globals())"
      ]
    },
    {
      "cell_type": "code",
      "execution_count": null,
      "metadata": {
        "id": "ari22EbsRbnY"
      },
      "outputs": [],
      "source": [
        "grader.run_test(\"Test 1_2\", globals())"
      ]
    },
    {
      "cell_type": "markdown",
      "metadata": {
        "id": "e3ZfWKJiusgf"
      },
      "source": [
        "## **2. Cálculo de probabilidades**\n",
        "---\n",
        "Si bien el proceso anterior permite determinar cuándo un dado está en condiciones adecuadas para su uso en el juego, esta información no puede utilizarse para identificar a los jugadores que aprovecharon esta situación a su favor. Para ello, el Caesars Palace desea que calcules la probabilidad de ocurrencia de cada cara del dado y utilices esta información para compararla con el comportamiento de los jugadores.\n",
        "\n",
        "Se te proporcionará un arreglo de numpy que representa las partidas, donde cada registro corresponde a un lanzamiento. Ahora deberás determinar la probabilidad de cada cara siguiendo estos pasos:\n",
        "\n",
        "1. **Contar la frecuencia de cada valor:** Recorre la lista de lanzamientos y cuenta cuántas veces aparece cada número del 1 al 6.\n",
        "2. **Calcular la probabilidad:** Divide la frecuencia de cada valor entre el número total de lanzamientos.\n",
        "\n",
        "📌 Ejemplo:\n",
        "\n",
        "Si el número 3 aparece 20 veces en una lista de 100 lanzamientos, la probabilidad de obtener un 3 será:\n",
        "\n",
        "$$\\frac{20}{100} = 0.2 \\quad o \\quad 20\\%$$  \n",
        "\n",
        "Como resultado del análisis, deberás generar un arreglo llamado probabilidades, donde cada índice representará una de las caras del dado (del 1 al 6). El valor almacenado en cada posición corresponderá a la probabilidad calculada para esa cara.\n",
        "\n",
        "* Ejemplo de estructura del arreglo:\n",
        "\n",
        "    * `probabilidades[2]` contendrá la probabilidad de obtener un 3.\n",
        "    * `probabilidades[5]` almacenará la probabilidad de obtener un 6"
      ]
    },
    {
      "cell_type": "markdown",
      "metadata": {
        "id": "_RSprhiQLETJ"
      },
      "source": [
        "**Parámetros**\n",
        "\n",
        "* `lanzamientos`: arreglo de numpy con los resultados de lanzamientos de 1 a 6.\n",
        "\n",
        "**Retorna**\n",
        "\n",
        "* `probabilidades`: Arreglo con los promedios de los lanzamientos"
      ]
    },
    {
      "cell_type": "markdown",
      "metadata": {
        "id": "OhY7IFzIiXvk"
      },
      "source": [
        "<details>    \n",
        "<summary>\n",
        "    <font size=\"3\" color=\"darkgreen\"><b>Pistas</b></font>\n",
        "</summary>\n",
        "\n",
        "* \"Para realizar el proceso de conteo de frecuencias, se debe utilizar la indexación. Cada vez que encuentre un valor en la lista de lanzamientos, utilice dicho valor como índice para acceder a la posición correspondiente en un arreglo auxiliar y actualice la frecuencia en esa posición.\n",
        "\n"
      ]
    },
    {
      "cell_type": "code",
      "execution_count": null,
      "metadata": {
        "id": "6pp7NisfTWqd"
      },
      "outputs": [],
      "source": [
        "# FUNCIÓN CALIFICADA: calcular_probabilidades(lanzamientos)\n",
        "def calcular_probabilidades(lanzamientos):\n",
        "    \"\"\"\n",
        "    lanzamientos:  un arreglo de NumPy con valores enteros no negativos. Contiene los valores obtenidos en los ultimos 10 lanzamientos.\n",
        "\n",
        "    Retorna un arreglo con dimensión (6,) con las probabilidades para cad auna de las caras.\n",
        "    \"\"\"\n",
        "    ### ESCRIBA SU CÓDIGO AQUÍ ###\n",
        "    # Reemplace la palabra None por el código correspondiente\n",
        "    # ~ 1-4 líneas de código\n",
        "    conteos = np.zeros(6, dtype=int)\n",
        "    for valor in lanzamientos:\n",
        "        if 1 <= valor <= 6:\n",
        "            conteos[valor - 1] += 1\n",
        "\n",
        "    probabilidades = conteos / len(lanzamientos)\n",
        "    # Desarrolle un bucle que recorra cada posicion del arreglo lanzamientos.\n",
        "    # identifique el valor ocurrido y sume 1 a la posicion correspondiente.\n",
        "\n",
        "    ### FIN DEL CÓDIGO ###\n",
        "\n",
        "    return probabilidades"
      ]
    },
    {
      "cell_type": "code",
      "execution_count": null,
      "metadata": {
        "id": "BoIaYK80u7R1"
      },
      "outputs": [],
      "source": [
        "#TEST_CELL\n",
        "np.random.seed(73)\n",
        "lanzamientos = np.random.randint(1,7,100)\n",
        "probabilidades = calcular_probabilidades(lanzamientos)\n",
        "print(np.sum(probabilidades))"
      ]
    },
    {
      "cell_type": "markdown",
      "metadata": {
        "id": "XWUJht2QRGih"
      },
      "source": [
        "**Salida esperada**:\n",
        "\n",
        "```python\n",
        "1.0\n",
        "```"
      ]
    },
    {
      "cell_type": "code",
      "execution_count": null,
      "metadata": {
        "id": "Ep5rW5nvSkMq"
      },
      "outputs": [],
      "source": [
        "#TEST_CELL\n",
        "lanzamientos = np.array([1,1,1,2,2,2,3,3,3,3,4,4,4,5,5,5,5,6,6,6])\n",
        "probabilidades = calcular_probabilidades(lanzamientos)\n",
        "print(probabilidades)"
      ]
    },
    {
      "cell_type": "markdown",
      "metadata": {
        "id": "qHicjgZGSkMr"
      },
      "source": [
        "**Salida esperada**:\n",
        "\n",
        "```python\n",
        "[0.15 0.15 0.2  0.15 0.2  0.15]\n",
        "```"
      ]
    },
    {
      "cell_type": "markdown",
      "metadata": {
        "id": "32fqLVLGRLMr"
      },
      "source": [
        "### **Evaluar código**"
      ]
    },
    {
      "cell_type": "code",
      "execution_count": null,
      "metadata": {
        "id": "vY2McRZXjV-c"
      },
      "outputs": [],
      "source": [
        "grader.run_test(\"Test 2_1\", globals())"
      ]
    },
    {
      "cell_type": "code",
      "execution_count": null,
      "metadata": {
        "id": "d5wTjoaCSX9n"
      },
      "outputs": [],
      "source": [
        "grader.run_test(\"Test 2_2\", globals())"
      ]
    },
    {
      "cell_type": "markdown",
      "metadata": {
        "id": "zhQLW7Stik6Y"
      },
      "source": [
        "## **3. Probabilidades conjuntas**\n",
        "---\n",
        "Ahora que es posible determinar la probabilidad de ocurrencia de cada cara, el casino quiere calcular la probabilidad conjunta de que ocurra cada cara del dado y de que un jugador la seleccione en su apuesta. De esta manera, el Caesars Palace podrá medir la relación entre las apuestas de un jugador y el comportamiento del dado en la partida.\n",
        "\n",
        "Para ello, el casino proporciona dos arreglos de numpy de Python:\n",
        "\n",
        "* Una representa el comportamiento del dado.\n",
        "* La otra contiene el patrón de apuestas de un jugador.\n",
        "\n",
        "Con estos datos, deberás calcular:\n",
        "\n",
        "**Matriz de probabilidades conjuntas:**  Es una matriz en la que cada celda representa la probabilidad observada de que:\n",
        "\n",
        "* Al arrojar el dado, salga una cara específica.\n",
        "* El jugador apueste por esa misma cara.\n",
        "\n",
        "Características:\n",
        "\n",
        "* La suma de las filas representa la probabilidad de ocurrencia de cada cara del dado.\n",
        "* La suma de las columnas indica la probabilidad de que el jugador apueste por cada cara.\n",
        "\n",
        "Esta matriz permite analizar la relación entre el comportamiento del dado y las decisiones del jugador en sus apuestas.\n",
        "\n",
        "<center>\n",
        "  <img src = \"https://drive.google.com/uc?export=view&id=1DXXn4XHQfoNPtc8sHmhWdxJXgu0gPkko\" alt = \"Matriz Probabilidades Conjuntas\" width = \"80%\">  \n",
        "  </img>\n",
        "</center>\n",
        "\n",
        "**Matriz de probabilidades ideales:** En esta matriz, cada celda muestra la probabilidad teórica de que un número salga en el dado y que el jugador apueste por él, asumiendo que ambos eventos son independientes.\n",
        "\n",
        "Se calcula con la siguiente fórmula:\n",
        "\n",
        "$$P(cara_i  \\cap apuesta_j) = P(cara_i ) * P(apuesta_j)$$\n",
        "\n",
        "Donde:\n",
        "\n",
        "* $P(cara_i   \\cap apuesta_j)$ representa la probabilidad conjunta de que al arrojar el dado caiga una cara particular y que el jugador apueste por dicha cara\n",
        "\n",
        "* $P(cara_i )$ representa la probabilidad de que ocurra la cara i\n",
        "* $P(apuesta_j)$ representa la probabilidad de que el jugador apueste por la cara j\n",
        "\n",
        "<center>\n",
        "<img src = \"https://drive.google.com/uc?export=view&id=17BXvRd2iBtoreXkf2Yu_sPmq286Q8tef\" alt = \"Matriz Probabilidades Ideales\" width = \"80%\">  \n",
        "</img>\n",
        "</center>\n",
        "\n",
        "📌 Ejemplo:\n",
        "\n",
        "Si queremos calcular la probabilidad de obtener un '3' en el lanzamiento y que el jugador apueste por la cara '5', debemos multiplicar la probabilidad individual de obtener un '3' al lanzar el dado por la probabilidad individual de obtener un '5' en las apuestas del jugador\n",
        "\n",
        "$$P(3  \\cap 5) = P(3) * P(5)$$\n",
        "\n",
        "El observar la cercanía entre ambas matrices le permitirá al casino entender que tan asociado está el comportamiento del jugador al comportamiento del dado. Entre más parecidas sean entre sí, el jugador tendrá un comportamiento NO relacionado con el histórico de lanzamiento del dado.\n",
        "\n"
      ]
    },
    {
      "cell_type": "markdown",
      "metadata": {
        "id": "SoTuaENVXGCU"
      },
      "source": [
        "**Parámetros**\n",
        "\n",
        "* `lanzamientos`: arreglo de numpy con los resultados de lanzamientos de 1 a 6.\n",
        "* `apuestas`: arreglo de numpy con las apuestas de los jugadores de 1 a 6.\n",
        "\n",
        "**Retorna**\n",
        "\n",
        "* `probabilidades_ideales`: Arreglo con las probabilidades teóricas\n",
        "* `probabilidades_medidas`: Arreglo con las probabilidades obtenidas"
      ]
    },
    {
      "cell_type": "markdown",
      "metadata": {
        "id": "w0eFU9tjnHlM"
      },
      "source": [
        "<details>    \n",
        "<summary>\n",
        "    <font size=\"3\" color=\"darkgreen\"><b>Pistas</b></font>\n",
        "</summary>\n",
        "\n",
        "* Para obtener la matriz de probabilidades conjuntas de forma eficiente, se puede aprovechar el producto externo. Esta operación permite multiplicar cada elemento de un vector por todos los elementos de otro vector, generando una matriz con todas las posibles combinaciones de productos.\n",
        "\n",
        "En este caso, podemos utilizar el producto externo para multiplicar el vector de probabilidades individuales del  dado por el vector de probabilidades de las apuestas. El resultado será una matriz donde cada elemento (i, j) representará la probabilidad conjunta de obtener el valor i en el primer dado y el valor j en el segundo dado.\n",
        "\n"
      ]
    },
    {
      "cell_type": "code",
      "execution_count": null,
      "metadata": {
        "id": "PmNQFvJIUy-F"
      },
      "outputs": [],
      "source": [
        "# FUNCIÓN CALIFICADA: probabiliades_conjuntas(lanzamientos_1, lanzamientos_2)\n",
        "def probabiliades_conjuntas(lanzamientos, apuestas):\n",
        "    \"\"\"\n",
        "    lanzamientos:  un arreglo de NumPy con valores enteros no negativos. Contiene los valores obtenidos en los ultimos n lanzamientos del dado.\n",
        "    apuestas\":  un arreglo de NumPy con valores enteros no negativos. Contiene los valores obtenidos en los ultimos n apuestas del jugador.\n",
        "\n",
        "    Retorna dos matrices con dimensión (6,6) con las probabilidades descritas.\n",
        "    \"\"\"\n",
        "    probabilidades_ideales = None\n",
        "    probabilidades_medidas = None\n",
        "\n",
        "    #Calcule la probabiliadad de ocurrencia de las caras para los lanzamientos\n",
        "\n",
        "    #Calcule la probabiliadad de ocurrencia de las caras para las apueats\n",
        "\n",
        "    #Calcule la matriz de probabilidades ideales\n",
        "\n",
        "\n",
        "    #En un bucle recorra los avlroes obtenidos para las apuestas y lanzamainetos simulatenamente\n",
        "\n",
        "    #Cuente e indexe en la matriz de probabilidades conjuntas la cantidad de veces que ocurre la convinación cara_i y apuesta_j\n",
        "    conteo_lanzamientos = np.zeros(6, dtype=int)\n",
        "    conteo_apuestas = np.zeros(6, dtype=int)\n",
        "    conteo_conjunto = np.zeros((6, 6), dtype=int)\n",
        "\n",
        "    total = len(lanzamientos)\n",
        "\n",
        "    for l, a in zip(lanzamientos, apuestas):\n",
        "        if 1 <= l <= 6 and 1 <= a <= 6:\n",
        "            conteo_lanzamientos[l - 1] += 1\n",
        "            conteo_apuestas[a - 1] += 1\n",
        "            conteo_conjunto[l - 1, a - 1] += 1\n",
        "\n",
        "    prob_lanzamientos = conteo_lanzamientos / total\n",
        "    prob_apuestas = conteo_apuestas / total\n",
        "\n",
        "    probabilidades_ideales = np.outer(prob_lanzamientos, prob_apuestas)\n",
        "\n",
        "    probabilidades_medidas = conteo_conjunto / total\n",
        "\n",
        "\n",
        "    return probabilidades_ideales, probabilidades_medidas\n"
      ]
    },
    {
      "cell_type": "code",
      "execution_count": null,
      "metadata": {
        "id": "abXLmYqj4C5R"
      },
      "outputs": [],
      "source": [
        "#TEST_CELL\n",
        "np.random.seed(73)\n",
        "lanzamientos = np.random.randint(1,7,10000)\n",
        "apuestas = np.random.randint(1,7,10000)\n",
        "probabiliades_conjuntas(lanzamientos, apuestas)"
      ]
    },
    {
      "cell_type": "markdown",
      "metadata": {
        "id": "d2GUTrT3IbNt"
      },
      "source": [
        "**Salida esperada**:\n",
        "\n",
        "```python\n",
        "(array([[0.02771028, 0.02674308, 0.02671084, 0.02661412, 0.02642068,\n",
        "         0.027001  ],\n",
        "        [0.02882763, 0.02782143, 0.02778789, 0.02768727, 0.02748603,\n",
        "         0.02808975],\n",
        "        [0.02910267, 0.02808687, 0.02805301, 0.02795143, 0.02774827,\n",
        "         0.02835775],\n",
        "        [0.02899953, 0.02798733, 0.02795359, 0.02785237, 0.02764993,\n",
        "         0.02825725],\n",
        "        [0.02910267, 0.02808687, 0.02805301, 0.02795143, 0.02774827,\n",
        "         0.02835775],\n",
        "        [0.02815722, 0.02717442, 0.02714166, 0.02704338, 0.02684682,\n",
        "         0.0274365 ]]),\n",
        " array([[0.0279, 0.0279, 0.0266, 0.0264, 0.0261, 0.0263],\n",
        "        [0.0288, 0.0278, 0.0272, 0.0284, 0.0279, 0.0276],\n",
        "        [0.027 , 0.0266, 0.0296, 0.0295, 0.0277, 0.0289],\n",
        "        [0.0293, 0.0282, 0.0243, 0.0279, 0.0285, 0.0305],\n",
        "        [0.029 , 0.0294, 0.0297, 0.0252, 0.0287, 0.0273],\n",
        "        [0.0299, 0.026 , 0.0283, 0.0277, 0.025 , 0.0269]]))\n",
        "```"
      ]
    },
    {
      "cell_type": "code",
      "execution_count": null,
      "metadata": {
        "id": "tBH-vhQALrNI"
      },
      "outputs": [],
      "source": [
        "#TEST_CELL\n",
        "lanzamientos = np.array([1,1,1,2,2,2,3,3,3,3,4,4,4,5,5,5,5,6,6,6])\n",
        "apuestas = np.array([1,1,1,2,2,2,3,3,3,3,4,4,4,5,5,5,5,6,6,6])\n",
        "probabiliades_conjuntas(lanzamientos, apuestas)"
      ]
    },
    {
      "cell_type": "markdown",
      "metadata": {
        "id": "6swmx7MrLrNI"
      },
      "source": [
        "**Salida esperada**:\n",
        "\n",
        "```python\n",
        "(array([[0.0225, 0.0225, 0.03  , 0.0225, 0.03  , 0.0225],\n",
        "        [0.0225, 0.0225, 0.03  , 0.0225, 0.03  , 0.0225],\n",
        "        [0.03  , 0.03  , 0.04  , 0.03  , 0.04  , 0.03  ],\n",
        "        [0.0225, 0.0225, 0.03  , 0.0225, 0.03  , 0.0225],\n",
        "        [0.03  , 0.03  , 0.04  , 0.03  , 0.04  , 0.03  ],\n",
        "        [0.0225, 0.0225, 0.03  , 0.0225, 0.03  , 0.0225]]),\n",
        " array([[0.15, 0.  , 0.  , 0.  , 0.  , 0.  ],\n",
        "        [0.  , 0.15, 0.  , 0.  , 0.  , 0.  ],\n",
        "        [0.  , 0.  , 0.2 , 0.  , 0.  , 0.  ],\n",
        "        [0.  , 0.  , 0.  , 0.15, 0.  , 0.  ],\n",
        "        [0.  , 0.  , 0.  , 0.  , 0.2 , 0.  ],\n",
        "        [0.  , 0.  , 0.  , 0.  , 0.  , 0.15]]))\n",
        "```"
      ]
    },
    {
      "cell_type": "markdown",
      "metadata": {
        "id": "m6wU3oo4RQnT"
      },
      "source": [
        "### **Evaluar código**"
      ]
    },
    {
      "cell_type": "code",
      "execution_count": null,
      "metadata": {
        "id": "NWGxZmbMgX5P"
      },
      "outputs": [],
      "source": [
        "grader.run_test(\"Test 3_1\", globals())"
      ]
    },
    {
      "cell_type": "code",
      "execution_count": null,
      "metadata": {
        "id": "vfaxMVA43Oqk"
      },
      "outputs": [],
      "source": [
        "grader.run_test(\"Test 3_2\", globals())"
      ]
    },
    {
      "cell_type": "markdown",
      "metadata": {
        "id": "c9P3GhZQQyhB"
      },
      "source": [
        "\n",
        "## **Evaluación**\n",
        "**¡Felicitaciones!** Ha terminado la tarea de la Unidad 1. ¡Excelente trabajo!\n",
        "\n"
      ]
    },
    {
      "cell_type": "code",
      "execution_count": null,
      "metadata": {
        "id": "rh714POZOgTD"
      },
      "outputs": [],
      "source": [
        "grader.submit_task(globals())"
      ]
    },
    {
      "cell_type": "markdown",
      "metadata": {
        "id": "lbAroKIyuX_p"
      },
      "source": [
        "\n",
        "## **Créditos**\n",
        "* **Profesor:** [Felipe Restrepo Calle](https://ferestrepoca.github.io/), [Luis Fernando Niño](https://dis.unal.edu.co/~ferestrepoca/)\n",
        "* **Asistentes docentes:**\n",
        "    - [Juan Sebastián Malagón Torres](https://www.linkedin.com/in/juan-sebastian-lara-ramirez-43570a214/).\n",
        "* **Diseño de imágenes:**\n",
        "    - [Sebastián Daniel Moreno Martinez](mailto:rsuperlano@unal.edu.co).\n",
        "* **Coordinador de virtualización:**\n",
        "    - [Edder Hernández Forero](https://www.linkedin.com/in/edder-hernandez-forero-28aa8b207/).\n",
        "    \n",
        "**Universidad Nacional de Colombia** - *Facultad de Ingeniería*"
      ]
    }
  ],
  "metadata": {
    "colab": {
      "provenance": [],
      "include_colab_link": true
    },
    "kernelspec": {
      "display_name": "Python 3",
      "name": "python3"
    }
  },
  "nbformat": 4,
  "nbformat_minor": 0
}